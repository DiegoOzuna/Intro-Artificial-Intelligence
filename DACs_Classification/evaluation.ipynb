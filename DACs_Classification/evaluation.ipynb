{
 "cells": [
  {
   "cell_type": "code",
   "execution_count": null,
   "metadata": {},
   "outputs": [],
   "source": [
    "# 1. import any required library to load dataset, open files (os), print confusion matrix and accuracy score\n"
   ]
  },
  {
   "cell_type": "code",
   "execution_count": null,
   "metadata": {},
   "outputs": [],
   "source": [
    "# 2. Create test set if you like to do the split programmatically or if you have not already split the data at this point\n"
   ]
  },
  {
   "cell_type": "code",
   "execution_count": null,
   "metadata": {},
   "outputs": [],
   "source": [
    "# 3. Load your saved model for dissadvantaged communities classification \n",
    "#that you saved in dissadvantaged_communities_classification.py via Pikcle\n"
   ]
  },
  {
   "cell_type": "code",
   "execution_count": null,
   "metadata": {},
   "outputs": [],
   "source": [
    "# 4. Make predictions on test_set created from step 2\n"
   ]
  },
  {
   "cell_type": "code",
   "execution_count": null,
   "metadata": {},
   "outputs": [],
   "source": [
    "# 5. use predictions and test_set (X_test) classifications to print the following:\n",
    "#    1. confution matrix, 2. accuracy score, 3. precision, 4. recall, 5. specificity\n",
    "#    You can easily find the formulae for Precision, Recall, and Specificity online.\n",
    "\n",
    "# Get and print confusion matrix\n",
    "cm = [[]]\n",
    "# Below are the metrics for computing classification accuracy, precision, recall and specificity\n",
    "TP = cm[0,0]\n",
    "TN = cm[1,1]\n",
    "FP = cm[0,1]\n",
    "FN = cm[1,0]"
   ]
  }
 ],
 "metadata": {
  "language_info": {
   "name": "python"
  }
 },
 "nbformat": 4,
 "nbformat_minor": 2
}
