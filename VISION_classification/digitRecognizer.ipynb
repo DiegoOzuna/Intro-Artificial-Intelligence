{
 "cells": [
  {
   "cell_type": "code",
   "execution_count": 1,
   "metadata": {},
   "outputs": [],
   "source": [
    "\n",
    "# Handwritten digit recognition for MNIST dataset using Convolutional Neural Networks\n"
   ]
  },
  {
   "cell_type": "code",
   "execution_count": 2,
   "metadata": {},
   "outputs": [],
   "source": [
    "# Step 1: Import all required keras libraries\n",
    "\n",
    "from keras.datasets import mnist # This is used to load mnist dataset later\n",
    "from tensorflow.keras.utils import to_categorical # This will be used to convert your test image to a categorical class (digit from 0 to 9)\n",
    "import tensorflow as tf"
   ]
  },
  {
   "cell_type": "code",
   "execution_count": 3,
   "metadata": {},
   "outputs": [],
   "source": [
    "# Step 2: Load and return training and test datasets\n",
    "def load_dataset():\n",
    "\t# 2a. Load dataset X_train, X_test, y_train, y_test via imported keras library\n",
    "    (X_train, y_train), (X_test, y_test) = mnist.load_data()\n",
    "\t# 2b. reshape for X train and test vars - Hint: X_train = X_train.reshape((X_train.shape[0], 28, 28, 1)).astype('float32')\n",
    "    X_train = X_train.reshape((X_train.shape[0], 28, 28, 1)).astype('float32')\n",
    "    X_test = X_test.reshape((X_test.shape[0], 28, 28, 1)).astype('float32')\n",
    "    \n",
    "\t# 2c. normalize inputs from 0-255 to 0-1 - Hint: X_train = X_train / 255\n",
    "    X_train = X_train / 255\n",
    "    X_test = X_test / 255\n",
    "\t# 2d. Convert y_train and y_test to categorical classes - Hint: y_train = np_utils.to_categorical(y_train)\n",
    "    y_train = to_categorical(y_train)\n",
    "    y_test = to_categorical(y_test)\n",
    "\t# 2e. return your X_train, X_test, y_train, y_test\n",
    "    return X_train, X_test, y_train, y_test\n",
    "\n",
    "    "
   ]
  },
  {
   "cell_type": "code",
   "execution_count": 4,
   "metadata": {},
   "outputs": [],
   "source": [
    "X_train, X_test, y_train, y_test = load_dataset()"
   ]
  },
  {
   "cell_type": "code",
   "execution_count": 5,
   "metadata": {},
   "outputs": [],
   "source": [
    "# Step 3: define your CNN model here in this function and then later use this function to create your model\n",
    "def digit_recognition_cnn():\n",
    "    # Initialization \n",
    "    cnn = tf.keras.models.Sequential()\n",
    "\n",
    "    # Convolution\n",
    "    cnn.add(tf.keras.layers.Conv2D(filters=128, kernel_size=3, activation='relu', input_shape=[28, 28, 1]))\n",
    "\n",
    "    # Pooling\n",
    "    cnn.add(tf.keras.layers.MaxPool2D(pool_size=2, strides=2))\n",
    "\n",
    "    # Convolution\n",
    "    cnn.add(tf.keras.layers.Conv2D(filters=256, kernel_size=3, activation='relu'))\n",
    "\n",
    "    # Pooling\n",
    "    cnn.add(tf.keras.layers.MaxPool2D(pool_size=2, strides=2))\n",
    "\n",
    "    # Flattening\n",
    "    cnn.add(tf.keras.layers.Flatten())\n",
    "\n",
    "    # Full connection\n",
    "    cnn.add(tf.keras.layers.Dense(units=128, activation='relu'))\n",
    "\n",
    "    cnn.add(tf.keras.layers.Dense(units=50, activation='relu'))\n",
    "\n",
    "    # Output layer\n",
    "    cnn.add(tf.keras.layers.Dense(units=10, activation='softmax'))  # 10 units for 10 classes, softmax for multi-class classification\n",
    "\n",
    "    # Compile your model with categorical_crossentropy (loss), adam optimizer and accuracy as a metric\n",
    "    cnn.compile(optimizer = 'adam', loss='categorical_crossentropy', metrics = ['accuracy'])\n",
    "\n",
    "    # return your model\n",
    "    return cnn\n"
   ]
  },
  {
   "cell_type": "code",
   "execution_count": 6,
   "metadata": {},
   "outputs": [
    {
     "name": "stderr",
     "output_type": "stream",
     "text": [
      "/Users/diegoozuna/Desktop/Intro-Artificial-Intelligence/.venv/lib/python3.12/site-packages/keras/src/layers/convolutional/base_conv.py:107: UserWarning: Do not pass an `input_shape`/`input_dim` argument to a layer. When using Sequential models, prefer using an `Input(shape)` object as the first layer in the model instead.\n",
      "  super().__init__(activity_regularizer=activity_regularizer, **kwargs)\n"
     ]
    }
   ],
   "source": [
    "# Step 4: Call digit_recognition_cnn() to build your model\n",
    "model = digit_recognition_cnn()"
   ]
  },
  {
   "cell_type": "code",
   "execution_count": 7,
   "metadata": {},
   "outputs": [
    {
     "name": "stdout",
     "output_type": "stream",
     "text": [
      "Epoch 1/10\n",
      "\u001b[1m400/400\u001b[0m \u001b[32m━━━━━━━━━━━━━━━━━━━━\u001b[0m\u001b[37m\u001b[0m \u001b[1m56s\u001b[0m 139ms/step - accuracy: 0.8722 - loss: 0.4110 - val_accuracy: 0.9864 - val_loss: 0.0457\n",
      "Epoch 2/10\n",
      "\u001b[1m400/400\u001b[0m \u001b[32m━━━━━━━━━━━━━━━━━━━━\u001b[0m\u001b[37m\u001b[0m \u001b[1m58s\u001b[0m 144ms/step - accuracy: 0.9851 - loss: 0.0465 - val_accuracy: 0.9883 - val_loss: 0.0349\n",
      "Epoch 3/10\n",
      "\u001b[1m400/400\u001b[0m \u001b[32m━━━━━━━━━━━━━━━━━━━━\u001b[0m\u001b[37m\u001b[0m \u001b[1m81s\u001b[0m 203ms/step - accuracy: 0.9912 - loss: 0.0285 - val_accuracy: 0.9883 - val_loss: 0.0319\n",
      "Epoch 4/10\n",
      "\u001b[1m400/400\u001b[0m \u001b[32m━━━━━━━━━━━━━━━━━━━━\u001b[0m\u001b[37m\u001b[0m \u001b[1m59s\u001b[0m 148ms/step - accuracy: 0.9930 - loss: 0.0211 - val_accuracy: 0.9906 - val_loss: 0.0299\n",
      "Epoch 5/10\n",
      "\u001b[1m400/400\u001b[0m \u001b[32m━━━━━━━━━━━━━━━━━━━━\u001b[0m\u001b[37m\u001b[0m \u001b[1m62s\u001b[0m 155ms/step - accuracy: 0.9956 - loss: 0.0149 - val_accuracy: 0.9915 - val_loss: 0.0290\n",
      "Epoch 6/10\n",
      "\u001b[1m400/400\u001b[0m \u001b[32m━━━━━━━━━━━━━━━━━━━━\u001b[0m\u001b[37m\u001b[0m \u001b[1m69s\u001b[0m 171ms/step - accuracy: 0.9957 - loss: 0.0136 - val_accuracy: 0.9897 - val_loss: 0.0331\n",
      "Epoch 7/10\n",
      "\u001b[1m400/400\u001b[0m \u001b[32m━━━━━━━━━━━━━━━━━━━━\u001b[0m\u001b[37m\u001b[0m \u001b[1m70s\u001b[0m 174ms/step - accuracy: 0.9972 - loss: 0.0100 - val_accuracy: 0.9914 - val_loss: 0.0293\n",
      "Epoch 8/10\n",
      "\u001b[1m400/400\u001b[0m \u001b[32m━━━━━━━━━━━━━━━━━━━━\u001b[0m\u001b[37m\u001b[0m \u001b[1m68s\u001b[0m 171ms/step - accuracy: 0.9975 - loss: 0.0081 - val_accuracy: 0.9905 - val_loss: 0.0319\n",
      "Epoch 9/10\n",
      "\u001b[1m400/400\u001b[0m \u001b[32m━━━━━━━━━━━━━━━━━━━━\u001b[0m\u001b[37m\u001b[0m \u001b[1m68s\u001b[0m 170ms/step - accuracy: 0.9974 - loss: 0.0082 - val_accuracy: 0.9907 - val_loss: 0.0336\n",
      "Epoch 10/10\n",
      "\u001b[1m400/400\u001b[0m \u001b[32m━━━━━━━━━━━━━━━━━━━━\u001b[0m\u001b[37m\u001b[0m \u001b[1m70s\u001b[0m 174ms/step - accuracy: 0.9981 - loss: 0.0051 - val_accuracy: 0.9914 - val_loss: 0.0312\n"
     ]
    },
    {
     "data": {
      "text/plain": [
       "<keras.src.callbacks.history.History at 0x16bb77080>"
      ]
     },
     "execution_count": 7,
     "metadata": {},
     "output_type": "execute_result"
    }
   ],
   "source": [
    "# Step 5: Train your model and see the result in Command window.\n",
    "# Set epochs to a number between 10 - 20 and batch_size between 150 - 200\n",
    "\n",
    "epochs = 10  # You can change this to any number between 10 and 20\n",
    "batch_size = 150  # You can change this to any number between 150 and 200\n",
    "\n",
    "# Train the model\n",
    "model.fit(X_train, y_train, validation_data=(X_test, y_test), epochs=epochs, batch_size=batch_size)\n",
    "\n",
    "\n"
   ]
  },
  {
   "cell_type": "code",
   "execution_count": 8,
   "metadata": {},
   "outputs": [
    {
     "name": "stdout",
     "output_type": "stream",
     "text": [
      "\u001b[1m313/313\u001b[0m \u001b[32m━━━━━━━━━━━━━━━━━━━━\u001b[0m\u001b[37m\u001b[0m \u001b[1m4s\u001b[0m 12ms/step - accuracy: 0.9895 - loss: 0.0368\n"
     ]
    },
    {
     "data": {
      "text/plain": [
       "[0.031205283477902412, 0.9914000034332275]"
      ]
     },
     "execution_count": 8,
     "metadata": {},
     "output_type": "execute_result"
    }
   ],
   "source": [
    "# Step 6: Evaluate your model via your_model_name.evaluate() function and copy the result in your report\n",
    "model.evaluate(X_test, y_test)"
   ]
  },
  {
   "cell_type": "code",
   "execution_count": 9,
   "metadata": {},
   "outputs": [
    {
     "name": "stderr",
     "output_type": "stream",
     "text": [
      "WARNING:absl:You are saving your model as an HDF5 file via `model.save()` or `keras.saving.save_model(model)`. This file format is considered legacy. We recommend using instead the native Keras format, e.g. `model.save('my_model.keras')` or `keras.saving.save_model(model, 'my_model.keras')`. \n"
     ]
    }
   ],
   "source": [
    "# Step 7: Save your model via your_model_name.save('digitRecognizer.h5')\n",
    "\n",
    "model.save('digitRecognizer.h5')"
   ]
  },
  {
   "cell_type": "code",
   "execution_count": 10,
   "metadata": {},
   "outputs": [],
   "source": [
    "# Code below to make a prediction for a new image."
   ]
  },
  {
   "cell_type": "code",
   "execution_count": 11,
   "metadata": {},
   "outputs": [],
   "source": [
    "# Step 8: load required keras libraries\n",
    "from keras.preprocessing.image import load_img\n",
    "from keras.preprocessing.image import img_to_array\n",
    "from keras.models import load_model"
   ]
  },
  {
   "cell_type": "code",
   "execution_count": 12,
   "metadata": {},
   "outputs": [],
   "source": [
    "# Step 9: load and normalize new image\n",
    "def load_new_image(path):\n",
    "\t# 9a. load new image\n",
    "\tnewImage = load_img(path, color_mode='grayscale', target_size=(28, 28))\n",
    "\t# 9b. Convert image to array\n",
    "\tnewImage = img_to_array(newImage)\n",
    "\t# 9c. reshape into a single sample with 1 channel\n",
    "\tnewImage = newImage.reshape((1, 28, 28, 1)).astype('float32')\n",
    "\t# 9d. normalize image data - Hint: newImage = newImage / 255\n",
    "\tnewImage = newImage / 255\n",
    "\t# 9e. return newImage\n",
    "\treturn newImage"
   ]
  },
  {
   "cell_type": "code",
   "execution_count": 13,
   "metadata": {},
   "outputs": [],
   "source": [
    "# Step 10: load a new image and predict its class\n",
    "def test_model_performance():\n",
    "\t# 10a. Call the above load image function\n",
    "\timg = load_new_image('sample_images/digit1.png')\n",
    "\t# 10b. load your CNN model (digitRecognizer.h5 file)\n",
    "\tdigit_rec = load_model('digitRecognizer.h5')\n",
    "\t# 10c. predict the class - Hint: imageClass = your_model_name.predict_classes(img)\n",
    "\timageClassProbs = digit_rec.predict(img)\n",
    "\timageClass = imageClassProbs.argmax(axis=-1)\n",
    "\t# 10d. Print prediction result\n",
    "\tprint(imageClass[0])"
   ]
  },
  {
   "cell_type": "code",
   "execution_count": 14,
   "metadata": {},
   "outputs": [
    {
     "name": "stderr",
     "output_type": "stream",
     "text": [
      "WARNING:absl:Compiled the loaded model, but the compiled metrics have yet to be built. `model.compile_metrics` will be empty until you train or evaluate the model.\n"
     ]
    },
    {
     "name": "stdout",
     "output_type": "stream",
     "text": [
      "\u001b[1m1/1\u001b[0m \u001b[32m━━━━━━━━━━━━━━━━━━━━\u001b[0m\u001b[37m\u001b[0m \u001b[1m0s\u001b[0m 42ms/step\n",
      "1\n"
     ]
    }
   ],
   "source": [
    "# Step 11: Test model performance here by calling the above test_model_performance function\n",
    "test_model_performance()"
   ]
  }
 ],
 "metadata": {
  "kernelspec": {
   "display_name": ".venv",
   "language": "python",
   "name": "python3"
  },
  "language_info": {
   "codemirror_mode": {
    "name": "ipython",
    "version": 3
   },
   "file_extension": ".py",
   "mimetype": "text/x-python",
   "name": "python",
   "nbconvert_exporter": "python",
   "pygments_lexer": "ipython3",
   "version": "3.12.2"
  }
 },
 "nbformat": 4,
 "nbformat_minor": 2
}
