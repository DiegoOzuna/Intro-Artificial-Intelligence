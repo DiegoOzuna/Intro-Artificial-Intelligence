{
 "cells": [
  {
   "cell_type": "code",
   "execution_count": 1,
   "metadata": {},
   "outputs": [],
   "source": [
    "\n",
    "# Handwritten digit recognition for MNIST dataset using Convolutional Neural Networks\n"
   ]
  },
  {
   "cell_type": "code",
   "execution_count": 2,
   "metadata": {},
   "outputs": [],
   "source": [
    "# Step 1: Import all required keras libraries\n",
    "from keras.models import load_model # This is used to load your saved model\n",
    "from keras.datasets import mnist # This is used to load mnist dataset later\n",
    "from tensorflow.keras.utils import to_categorical # This will be used to convert your test image to a categorical class (digit from 0 to 9)\n",
    "import tensorflow as tf"
   ]
  },
  {
   "cell_type": "code",
   "execution_count": 3,
   "metadata": {},
   "outputs": [],
   "source": [
    "# Step 2: Load and return training and test datasets\n",
    "def load_dataset():\n",
    "\t# 2a. Load dataset X_train, X_test, y_train, y_test via imported keras library\n",
    "    (X_train, y_train), (X_test, y_test) = mnist.load_data()\n",
    "\t# 2b. reshape for X train and test vars - Hint: X_train = X_train.reshape((X_train.shape[0], 28, 28, 1)).astype('float32')\n",
    "    X_train = X_train.reshape((X_train.shape[0], 28, 28, 1)).astype('float32')\n",
    "    X_test = X_test.reshape((X_test.shape[0], 28, 28, 1)).astype('float32')\n",
    "    \n",
    "\t# 2c. normalize inputs from 0-255 to 0-1 - Hint: X_train = X_train / 255\n",
    "    X_train = X_train / 255\n",
    "    X_test = X_test / 255\n",
    "\t# 2d. Convert y_train and y_test to categorical classes - Hint: y_train = np_utils.to_categorical(y_train)\n",
    "\t# Note np_utils is outdated. We use to_categorical() directly from tensorflow.keras.utils\n",
    "    y_train = to_categorical(y_train)\n",
    "    y_test = to_categorical(y_test)\n",
    "\t# 2e. return your X_train, X_test, y_train, y_test\n",
    "    return X_train, X_test, y_train, y_test"
   ]
  },
  {
   "cell_type": "code",
   "execution_count": 4,
   "metadata": {},
   "outputs": [],
   "source": [
    "X_train, X_test, y_train, y_test = load_dataset()"
   ]
  },
  {
   "cell_type": "code",
   "execution_count": 5,
   "metadata": {},
   "outputs": [
    {
     "name": "stderr",
     "output_type": "stream",
     "text": [
      "WARNING:absl:Compiled the loaded model, but the compiled metrics have yet to be built. `model.compile_metrics` will be empty until you train or evaluate the model.\n"
     ]
    }
   ],
   "source": [
    "# Step 3: Load your saved model \n",
    "digit_Rec = load_model('digitRecognizer.h5')"
   ]
  },
  {
   "cell_type": "code",
   "execution_count": 6,
   "metadata": {},
   "outputs": [
    {
     "data": {
      "text/plain": [
       "[0.031205283477902412, 0.9914000034332275]"
      ]
     },
     "execution_count": 6,
     "metadata": {},
     "output_type": "execute_result"
    }
   ],
   "source": [
    "# Step 4: Evaluate your model via your_model_name.evaluate(X_test, y_test, verbose = 0) function\n",
    "digit_Rec.evaluate(X_test, y_test, verbose=0)"
   ]
  },
  {
   "cell_type": "code",
   "execution_count": 7,
   "metadata": {},
   "outputs": [],
   "source": [
    "# Step 5: This section below is optional and can be copied from your digitRecognizer.py file from Step 8 onwards - load required keras libraries\n",
    "from keras.preprocessing.image import load_img\n",
    "from keras.preprocessing.image import img_to_array"
   ]
  },
  {
   "cell_type": "code",
   "execution_count": 8,
   "metadata": {},
   "outputs": [],
   "source": [
    "# Step 6: load and normalize new image\n",
    "def load_new_image(path):\n",
    "\t# 6a. load new image\n",
    "\tnewImage = load_img(path, color_mode='grayscale', target_size=(28, 28))\n",
    "\t# 6b. Convert image to array\n",
    "\tnewImage = img_to_array(newImage)\n",
    "\t# 6c. reshape into a single sample with 1 channel\n",
    "\tnewImage = newImage.reshape((1, 28, 28, 1)).astype('float32')\n",
    "\t# 6d. normalize image data - Hint: newImage = newImage / 255\n",
    "\tnewImage = newImage / 255\n",
    "\t# 6e. return newImage\n",
    "\treturn newImage"
   ]
  },
  {
   "cell_type": "code",
   "execution_count": 9,
   "metadata": {},
   "outputs": [],
   "source": [
    "# Step 7: load a new image and predict its class\n",
    "def test_model_performance(path, model):\n",
    "\t# 7a. Call the above load image function\n",
    "\timg = load_new_image(path)\n",
    "\t# 7c. predict the class - Hint: imageClass = your_model_name.predict_classes(img)\n",
    "\timageClassProbs = model.predict(img)\n",
    "\timageClass = imageClassProbs.argmax(axis=-1)\n",
    "\t# 7d. Print prediction result\n",
    "\tprint(imageClass[0])"
   ]
  },
  {
   "cell_type": "code",
   "execution_count": 10,
   "metadata": {},
   "outputs": [
    {
     "name": "stdout",
     "output_type": "stream",
     "text": [
      "\u001b[1m1/1\u001b[0m \u001b[32m━━━━━━━━━━━━━━━━━━━━\u001b[0m\u001b[37m\u001b[0m \u001b[1m0s\u001b[0m 31ms/step\n",
      "1\n",
      "\u001b[1m1/1\u001b[0m \u001b[32m━━━━━━━━━━━━━━━━━━━━\u001b[0m\u001b[37m\u001b[0m \u001b[1m0s\u001b[0m 9ms/step\n",
      "2\n",
      "\u001b[1m1/1\u001b[0m \u001b[32m━━━━━━━━━━━━━━━━━━━━\u001b[0m\u001b[37m\u001b[0m \u001b[1m0s\u001b[0m 8ms/step\n",
      "3\n",
      "\u001b[1m1/1\u001b[0m \u001b[32m━━━━━━━━━━━━━━━━━━━━\u001b[0m\u001b[37m\u001b[0m \u001b[1m0s\u001b[0m 8ms/step\n",
      "4\n",
      "\u001b[1m1/1\u001b[0m \u001b[32m━━━━━━━━━━━━━━━━━━━━\u001b[0m\u001b[37m\u001b[0m \u001b[1m0s\u001b[0m 8ms/step\n",
      "5\n",
      "\u001b[1m1/1\u001b[0m \u001b[32m━━━━━━━━━━━━━━━━━━━━\u001b[0m\u001b[37m\u001b[0m \u001b[1m0s\u001b[0m 8ms/step\n",
      "6\n",
      "\u001b[1m1/1\u001b[0m \u001b[32m━━━━━━━━━━━━━━━━━━━━\u001b[0m\u001b[37m\u001b[0m \u001b[1m0s\u001b[0m 8ms/step\n",
      "7\n",
      "\u001b[1m1/1\u001b[0m \u001b[32m━━━━━━━━━━━━━━━━━━━━\u001b[0m\u001b[37m\u001b[0m \u001b[1m0s\u001b[0m 8ms/step\n",
      "8\n",
      "\u001b[1m1/1\u001b[0m \u001b[32m━━━━━━━━━━━━━━━━━━━━\u001b[0m\u001b[37m\u001b[0m \u001b[1m0s\u001b[0m 8ms/step\n",
      "3\n"
     ]
    }
   ],
   "source": [
    "# Step 8: Test model performance here by calling the above test_model_performance function\n",
    "paths = ['sample_images/digit1.png','sample_images/digit2.png','sample_images/digit3.png',\n",
    "         'sample_images/digit4.png','sample_images/digit5.png','sample_images/digit6.png',\n",
    "         'sample_images/digit7.png','sample_images/digit8.png','sample_images/digit9.png']\n",
    "\n",
    "\n",
    "\n",
    "for path in paths:\n",
    "    test_model_performance(path, digit_Rec)\n",
    "\n"
   ]
  },
  {
   "cell_type": "code",
   "execution_count": null,
   "metadata": {},
   "outputs": [],
   "source": []
  }
 ],
 "metadata": {
  "kernelspec": {
   "display_name": ".venv",
   "language": "python",
   "name": "python3"
  },
  "language_info": {
   "codemirror_mode": {
    "name": "ipython",
    "version": 3
   },
   "file_extension": ".py",
   "mimetype": "text/x-python",
   "name": "python",
   "nbconvert_exporter": "python",
   "pygments_lexer": "ipython3",
   "version": "3.12.2"
  }
 },
 "nbformat": 4,
 "nbformat_minor": 2
}
